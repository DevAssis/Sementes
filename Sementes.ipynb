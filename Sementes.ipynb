{
  "nbformat": 4,
  "nbformat_minor": 0,
  "metadata": {
    "colab": {
      "provenance": [],
      "authorship_tag": "ABX9TyP016EB9RqDdHpkMNRLE4DM",
      "include_colab_link": true
    },
    "kernelspec": {
      "name": "python3",
      "display_name": "Python 3"
    },
    "language_info": {
      "name": "python"
    }
  },
  "cells": [
    {
      "cell_type": "markdown",
      "metadata": {
        "id": "view-in-github",
        "colab_type": "text"
      },
      "source": [
        "<a href=\"https://colab.research.google.com/github/DevAssis/Sementes/blob/master/Sementes.ipynb\" target=\"_parent\"><img src=\"https://colab.research.google.com/assets/colab-badge.svg\" alt=\"Open In Colab\"/></a>"
      ]
    },
    {
      "cell_type": "markdown",
      "source": [
        "# Projeto: Cálculo da probabilidade de germinação de sementes infectadas\n",
        "\n",
        "Este projeto tem como objetivo calcular a probabilidade de uma semente infectada germinar com base nas informações disponíveis em um experimento. O experimento envolve a disseminação de 320 sementes de aveia após serem contaminadas com um fungo. A pesquisa deseja saber qual a probabilidade &Theta; de uma semente infectada germinar. Infelizmente o número exato de sementes germinadas não pode ser avaliado, mas sabemos que menos de 25 sementes germinaram.\n",
        "\n",
        "## *Código:*"
      ],
      "metadata": {
        "id": "2fj-Kk9rUvYi"
      }
    },
    {
      "cell_type": "code",
      "source": [
        "import numpy as np\n",
        "import matplotlib.pyplot as plt\n",
        "from scipy.stats import binom\n",
        "\n",
        "n = 320  # número de sementes infectadas\n",
        "x = 24   # limite superior para sementes germinadas\n",
        "\n",
        "theta_values = np.linspace(0, 1, 101)  # valores de theta a serem testados\n",
        "L_values = []  # valores de L(theta)\n",
        "\n",
        "for theta in theta_values:\n",
        "    p = theta  # probabilidade de uma semente infectada germinar\n",
        "    L = sum([binom.pmf(i, n, p) for i in range(x)])\n",
        "    L_values.append(L)\n",
        "\n",
        "theta_hat = theta_values[np.argmax(L_values)]  # estimativa de theta com maior L(theta)\n",
        "print(\"A probabilidade de uma semente infectada germinar é:\", theta_hat)"
      ],
      "metadata": {
        "colab": {
          "base_uri": "https://localhost:8080/"
        },
        "id": "8hxnzqyPzHE1",
        "outputId": "fc80e2f7-d309-4673-d968-3c8f7dff537e"
      },
      "execution_count": 5,
      "outputs": [
        {
          "output_type": "stream",
          "name": "stdout",
          "text": [
            "A probabilidade de uma semente infectada germinar é: 0.0\n"
          ]
        }
      ]
    },
    {
      "cell_type": "markdown",
      "source": [
        "## *Detalhamento:*\n",
        "\n",
        "Este código começa importando as bibliotecas numpy e scipy.stats. Em seguida, define os valores n e x, que representam o número total de sementes infectadas e o limite superior para o número de sementes germinadas, respectivamente.\n",
        "\n",
        "O código então cria um array theta_values usando a função linspace do numpy para armazenar os valores possíveis para Θ. Também cria uma lista vazia L_values para armazenar os valores da função de verossimilhança para cada valor possível de Θ.\n",
        "\n",
        "Em seguida, o código entra em um loop for que itera sobre cada valor possível de Θ. Dentro do loop, define a variável p como igual ao valor atual de Θ, que representa a probabilidade de uma semente infectada germinar. \n",
        "\n",
        "Em seguida, calcula o valor da função de verossimilhança L como a soma das probabilidades binomiais acumuladas até x-1. Isso é feito usando a função binom.pmf da biblioteca scipy.stats. O valor calculado é adicionado à lista L_values.\n",
        "\n",
        "Após o loop terminar, o código encontra o índice do maior valor na lista L_values usando a função argmax do numpy. Esse índice é usado para encontrar o valor correspondente em theta_values, que é armazenado na variável theta_hat. Essa variável representa a estimativa da probabilidade Θ com maior verossimilhança. O código então imprime essa estimativa usando a função print."
      ],
      "metadata": {
        "id": "NBRLUY-ZVaMp"
      }
    },
    {
      "cell_type": "markdown",
      "source": [
        "## *Plotagem:*\n",
        "\n",
        "Este código cria um gráfico dos resultados usando a função plot da biblioteca matplotlib.pyplot. O gráfico mostra os valores da função de verossimilhança em função de Θ. Você pode personalizar o gráfico alterando as propriedades do eixo x e y, adicionando um título e outras opções disponíveis na biblioteca matplotlib."
      ],
      "metadata": {
        "id": "4GNnCK9RYXCd"
      }
    },
    {
      "cell_type": "code",
      "source": [
        "plt.plot(theta_values, L_values)\n",
        "plt.xlabel('Theta')\n",
        "plt.ylabel('L(Theta)')\n",
        "plt.title('Função de verossimilhança')\n",
        "plt.show()"
      ],
      "metadata": {
        "colab": {
          "base_uri": "https://localhost:8080/",
          "height": 295
        },
        "id": "wygzAxuEYGWO",
        "outputId": "4fe1d9b8-ed9e-452e-dfd5-1901abc147a6"
      },
      "execution_count": 4,
      "outputs": [
        {
          "output_type": "display_data",
          "data": {
            "text/plain": [
              "<Figure size 432x288 with 1 Axes>"
            ],
            "image/png": "[encoded data removed]"
          },
          "metadata": {
            "needs_background": "light"
          }
        }
      ]
    },
    {
      "cell_type": "markdown",
      "source": [
        "## Interpretação dos resultados\n",
        "\n",
        "Os resultados do programa mostram os valores da função de verossimilhança para cada valor possível de &Theta;. A função de verossimilhança mede o quão provável é observar os dados (neste caso, o número de sementes germinadas) para cada valor possível de &Theta;.\n",
        "\n",
        "O programa usa o método da máxima verossimilhança para encontrar a estimativa de &Theta; que maximiza a função de verossimilhança. Essa estimativa é armazenada na variável `theta_hat` e representa o valor mais provável para &Theta; com base nas informações disponíveis no experimento.\n",
        "\n",
        "Você pode usar essa estimativa para avaliar a probabilidade de uma semente infectada germinar com base nas informações disponíveis no experimento. Além disso, você pode usar o gráfico da função de verossimilhança para visualizar como a probabilidade muda em função de &Theta; e avaliar a incerteza associada à estimativa."
      ],
      "metadata": {
        "id": "2G9AWWuZYmUy"
      }
    }
  ]
}